{
 "cells": [
  {
   "cell_type": "code",
   "execution_count": 1,
   "metadata": {},
   "outputs": [],
   "source": [
    "# Add relevant Jupyter notebook extensions "
   ]
  },
  {
   "cell_type": "code",
   "execution_count": null,
   "metadata": {},
   "outputs": [],
   "source": [
    "import sys\n",
    "print(sys.executable)\n"
   ]
  },
  {
   "cell_type": "code",
   "execution_count": null,
   "metadata": {},
   "outputs": [],
   "source": [
    "# You can double-check your Python path like this...\n",
    "import sys  \n",
    "print(sys.path)"
   ]
  },
  {
   "cell_type": "markdown",
   "metadata": {},
   "source": [
    "# Simulate closed-loop\n",
    "After implementing your control functionality, you can simulate the closed-loop with code that looks something like this..."
   ]
  },
  {
   "cell_type": "code",
   "execution_count": null,
   "metadata": {},
   "outputs": [],
   "source": [
    "# Import relevant modules\n",
    "\n",
    "sub = Submarine()\n",
    "# Instantiate your controller (depending on your implementation)\n",
    "closed_loop = ClosedLoop(sub, controller)\n",
    "mission = Mission.from_csv(\"path/to/file\") # You must implement this method in the Mission class\n",
    "\n",
    "trajectory = closed_loop.simulate_with_random_disturbances(mission)\n",
    "trajectory.plot_completed_mission(mission)\n"
   ]
  },
  {
   "cell_type": "code",
   "execution_count": null,
   "metadata": {},
   "outputs": [],
   "source": [
    "from mission import Mission\n",
    "from uuv_mission.dynamic import ClosedLoop\n",
    "from control import PDController\n",
    "from submarine import Submarine\n",
    "import numpy as np\n",
    "\n",
    "mission = Mission.from_csv(\"mission.csv\")\n",
    "controller = PDController()\n",
    "submarine = Submarine()\n",
    "\n",
    "system = ClosedLoop(submarine, controller)\n",
    "\n",
    "# simulate with zero disturbances\n",
    "disturbances = np.zeros(len(mission.reference))\n",
    "result = system.simulate(mission, disturbances)\n",
    "\n",
    "print(\"Simulation finished.\")\n",
    "print(\"First few depths:\", result[\"positions\"][:5])\n",
    "print(\"First few actions:\", result[\"actions\"][:5])\n"
   ]
  },
  {
   "cell_type": "code",
   "execution_count": null,
   "metadata": {},
   "outputs": [],
   "source": [
    "result = system.simulate(\n",
    "    Mission(reference=mission.reference[:100],  # first 100 steps only\n",
    "             cave_height=mission.cave_height[:100],\n",
    "             cave_depth=mission.cave_depth[:100]),\n",
    "    np.zeros(100)\n",
    ")"
   ]
  },
  {
   "cell_type": "code",
   "execution_count": null,
   "metadata": {},
   "outputs": [],
   "source": [
    "result = system.simulate(\n",
    "    Mission(reference=mission.reference[:20],\n",
    "            cave_height=mission.cave_height[:100],\n",
    "            cave_depth=mission.cave_depth[:100]),\n",
    "    np.zeros(100)\n",
    ")\n"
   ]
  }
 ],
 "metadata": {
  "kernelspec": {
   "display_name": ".venv",
   "language": "python",
   "name": "python3"
  },
  "language_info": {
   "codemirror_mode": {
    "name": "ipython",
    "version": 3
   },
   "file_extension": ".py",
   "mimetype": "text/x-python",
   "name": "python",
   "nbconvert_exporter": "python",
   "pygments_lexer": "ipython3",
   "version": "3.10.11"
  }
 },
 "nbformat": 4,
 "nbformat_minor": 2
}
